{
 "cells": [
  {
   "cell_type": "code",
   "execution_count": 1,
   "id": "047a5362-3fbf-453c-b408-aae8eb2ee7e1",
   "metadata": {},
   "outputs": [
    {
     "name": "stdout",
     "output_type": "stream",
     "text": [
      "1\n",
      "2\n",
      "3\n",
      "4\n",
      "5\n",
      "6\n",
      "7\n",
      "8\n",
      "9\n",
      "10\n"
     ]
    }
   ],
   "source": [
    "#1. Counting with While Loop\n",
    "i = 1\n",
    "while i <= 10:\n",
    "    print(i)\n",
    "    i += 1"
   ]
  },
  {
   "cell_type": "code",
   "execution_count": 2,
   "id": "4e12880d-107a-463a-9735-ede593e41551",
   "metadata": {},
   "outputs": [
    {
     "name": "stdout",
     "output_type": "stream",
     "text": [
      "2\n",
      "4\n",
      "6\n",
      "8\n",
      "10\n",
      "12\n",
      "14\n",
      "16\n",
      "18\n",
      "20\n"
     ]
    }
   ],
   "source": [
    "2#. Even Numbers\n",
    "i = 1\n",
    "while i <= 20:\n",
    "    if i % 2 == 0:\n",
    "        print(i)\n",
    "    i += 1"
   ]
  },
  {
   "cell_type": "code",
   "execution_count": 3,
   "id": "6e149153-0f72-41a0-841e-bddc7fa691a2",
   "metadata": {},
   "outputs": [
    {
     "name": "stdout",
     "output_type": "stream",
     "text": [
      "Sum: 55\n"
     ]
    }
   ],
   "source": [
    "#3. Sum of Natural Numbers\n",
    "sum = 0\n",
    "i = 1\n",
    "while i <= 10:\n",
    "    sum += i\n",
    "    i += 1\n",
    "print(\"Sum:\", sum)"
   ]
  },
  {
   "cell_type": "code",
   "execution_count": 4,
   "id": "1b8bc75b-2923-4caf-b806-e11067b403a6",
   "metadata": {},
   "outputs": [
    {
     "name": "stdin",
     "output_type": "stream",
     "text": [
      "Enter a number (or negative to stop):  43\n",
      "Enter a number (or negative to stop):  -31\n"
     ]
    },
    {
     "name": "stdout",
     "output_type": "stream",
     "text": [
      "Total Sum: 43.0\n"
     ]
    }
   ],
   "source": [
    "#4. User Input with Condition\n",
    "sum = 0\n",
    "while True:\n",
    "    num = float(input(\"Enter a number (or negative to stop): \"))\n",
    "    if num < 0:\n",
    "        break\n",
    "    sum += num\n",
    "print(\"Total Sum:\", sum)"
   ]
  },
  {
   "cell_type": "code",
   "execution_count": null,
   "id": "fd073218-59da-4800-883b-ad87d0803bcb",
   "metadata": {},
   "outputs": [],
   "source": [
    "import random\n",
    "\n",
    "# Generate a random number between 1 and 100\n",
    "number_to_guess = random.randint(1, 100)\n",
    "\n",
    "print(\"Welcome to the Number Guessing Game!\")\n",
    "print(\"Guess a number between 1 and 100.\")\n",
    "\n",
    "while True:\n",
    "    # Get user's guess\n",
    "    try:\n",
    "        guess = int(input(\"Enter your guess: \"))\n",
    "    except ValueError:\n",
    "        print(\"Invalid input. Please enter a whole number.\")\n",
    "        continue\n",
    "\n",
    "    # Check if guess is within range\n",
    "    if guess < 1 or guess > 100:\n",
    "        print(\"Please enter a number between 1 and 100.\")\n",
    "        continue\n",
    "# Check guess\n",
    "    if guess < number_to_guess:\n",
    "        print(\"Too low! Try again.\")\n",
    "    elif guess > number_to_guess:\n",
    "        print(\"Too high! Try again.\")\n",
    "    else:\n",
    "        print(\"Congratulations! You got it right.\")\n",
    "        break"
   ]
  },
  {
   "cell_type": "code",
   "execution_count": 5,
   "id": "1fa6788e-e184-488e-a2e7-62d010ea9ddb",
   "metadata": {},
   "outputs": [
    {
     "name": "stdin",
     "output_type": "stream",
     "text": [
      "Enter a positive integer:  46\n"
     ]
    },
    {
     "name": "stdout",
     "output_type": "stream",
     "text": [
      "Factorial: 5502622159812088949850305428800254892961651752960000000000\n"
     ]
    }
   ],
   "source": [
    "7#. Factorial Calculation\n",
    "n = int(input(\"Enter a positive integer: \"))\n",
    "factorial = 1\n",
    "i = 1\n",
    "while i <= n:\n",
    "    factorial *= i\n",
    "    i += 1\n",
    "print(\"Factorial:\", factorial)"
   ]
  },
  {
   "cell_type": "code",
   "execution_count": 6,
   "id": "ff9ede87-9415-4abd-9275-bac3d068df13",
   "metadata": {},
   "outputs": [
    {
     "name": "stdin",
     "output_type": "stream",
     "text": [
      "Enter a number (or 'done' to stop):  21\n",
      "Enter a number (or 'done' to stop):  done\n"
     ]
    },
    {
     "name": "stdout",
     "output_type": "stream",
     "text": [
      "Average: 21.0\n"
     ]
    }
   ],
   "source": [
    "#7. Average Calculator\n",
    "sum = 0\n",
    "count = 0\n",
    "while True:\n",
    "    num = input(\"Enter a number (or 'done' to stop): \")\n",
    "    if num.lower() == 'done':\n",
    "        break\n",
    "    sum += float(num)\n",
    "    count += 1\n",
    "average = sum / count\n",
    "print(\"Average:\", average)"
   ]
  },
  {
   "cell_type": "code",
   "execution_count": 7,
   "id": "ab83304d-1813-4abf-bf07-e73a6bcfdad2",
   "metadata": {},
   "outputs": [
    {
     "name": "stdin",
     "output_type": "stream",
     "text": [
      "Enter the number of terms:  10\n"
     ]
    },
    {
     "name": "stdout",
     "output_type": "stream",
     "text": [
      "0\n",
      "1\n",
      "1\n",
      "2\n",
      "3\n",
      "5\n",
      "8\n",
      "13\n",
      "21\n",
      "34\n"
     ]
    }
   ],
   "source": [
    "#8. Fibonacci Sequence\n",
    "n = int(input(\"Enter the number of terms: \"))\n",
    "a, b = 0, 1\n",
    "i = 1\n",
    "while i <= n:\n",
    "    print(a)\n",
    "    a, b = b, a + b\n",
    "    i += 1"
   ]
  },
  {
   "cell_type": "code",
   "execution_count": null,
   "id": "1586ac7c-544b-4a2c-8180-117d52d95426",
   "metadata": {},
   "outputs": [],
   "source": []
  }
 ],
 "metadata": {
  "kernelspec": {
   "display_name": "Python 3 (ipykernel)",
   "language": "python",
   "name": "python3"
  },
  "language_info": {
   "codemirror_mode": {
    "name": "ipython",
    "version": 3
   },
   "file_extension": ".py",
   "mimetype": "text/x-python",
   "name": "python",
   "nbconvert_exporter": "python",
   "pygments_lexer": "ipython3",
   "version": "3.12.4"
  }
 },
 "nbformat": 4,
 "nbformat_minor": 5
}
