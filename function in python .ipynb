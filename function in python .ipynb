{
 "cells": [
  {
   "cell_type": "code",
   "execution_count": null,
   "id": "5a92dc64-caf3-42c4-bdc7-f61e17376c30",
   "metadata": {},
   "outputs": [],
   "source": [
    "#Ariba Latif"
   ]
  },
  {
   "cell_type": "code",
   "execution_count": 1,
   "id": "9b2f8ddc-e3c2-4ad0-a921-a53b703a85a1",
   "metadata": {},
   "outputs": [],
   "source": [
    "# Practice Functions in Python"
   ]
  },
  {
   "cell_type": "code",
   "execution_count": 3,
   "id": "923c3576-ae29-4d43-9ae1-a366e7872ec3",
   "metadata": {},
   "outputs": [],
   "source": [
    "# Q1 Simple Function"
   ]
  },
  {
   "cell_type": "code",
   "execution_count": 7,
   "id": "a034e5b3-7891-4cd6-8473-ce02b755ad65",
   "metadata": {},
   "outputs": [
    {
     "name": "stdout",
     "output_type": "stream",
     "text": [
      "Hello ariba, the current time is 2024-11-28 21:43:41.256837.\n"
     ]
    }
   ],
   "source": [
    "import datetime\n",
    "def greet_with_time(name):\n",
    "    current_time=datetime.datetime.now()\n",
    "    print(f\"Hello {name}, the current time is {current_time}.\")\n",
    "greet_with_time(\"ariba\")"
   ]
  },
  {
   "cell_type": "code",
   "execution_count": 9,
   "id": "4399d0b6-00a0-4ae8-a648-9916f1d628e1",
   "metadata": {},
   "outputs": [],
   "source": [
    "# Q2 Function with Multiple Parameters"
   ]
  },
  {
   "cell_type": "code",
   "execution_count": 13,
   "id": "c051bcd6-fcb6-419c-965b-5336dd85d5b1",
   "metadata": {},
   "outputs": [
    {
     "name": "stdout",
     "output_type": "stream",
     "text": [
      "282.6666666666667\n"
     ]
    }
   ],
   "source": [
    "def calculate_average(num1,num2,num3):\n",
    "    average=(num1+num2+num3)/3\n",
    "    return average\n",
    "result=calculate_average(345,46,457)\n",
    "print(result)"
   ]
  },
  {
   "cell_type": "code",
   "execution_count": 15,
   "id": "2b820c4e-4685-40d7-a03b-4a0c96d2b102",
   "metadata": {},
   "outputs": [],
   "source": [
    "# Q3 Default Argument"
   ]
  },
  {
   "cell_type": "code",
   "execution_count": 17,
   "id": "41387c5e-de8b-403f-b9e0-be22732c3a3d",
   "metadata": {},
   "outputs": [
    {
     "name": "stdout",
     "output_type": "stream",
     "text": [
      "3280.5\n"
     ]
    }
   ],
   "source": [
    "def calculate_discount(price, percentage):\n",
    "    discount=price-(price*percentage)\n",
    "    return discount\n",
    "price=calculate_discount(3645,10/100)\n",
    "print(price)"
   ]
  },
  {
   "cell_type": "code",
   "execution_count": 19,
   "id": "8bb0bb52-2e0d-44b5-936e-e689085b3de4",
   "metadata": {},
   "outputs": [],
   "source": [
    "# Q4 Keyword Arguments"
   ]
  },
  {
   "cell_type": "code",
   "execution_count": 21,
   "id": "6a0c4589-90d5-41d1-99c1-98a5fea62c00",
   "metadata": {},
   "outputs": [
    {
     "name": "stdout",
     "output_type": "stream",
     "text": [
      "Name: ariba\n",
      "Age: 18\n",
      "City: Lahore\n"
     ]
    }
   ],
   "source": [
    "def print_info(name,age,city):\n",
    "    print(f\"Name: {name}\")\n",
    "    print(f\"Age: {age}\")\n",
    "    print(f\"City: {city}\")\n",
    "print_info(name=\"ariba\",age=18,city=\"Lahore\")"
   ]
  },
  {
   "cell_type": "code",
   "execution_count": 23,
   "id": "587ba951-d1c2-440b-a525-1693026ef6b8",
   "metadata": {},
   "outputs": [],
   "source": [
    "# Q5 Variable-Length Arguments"
   ]
  },
  {
   "cell_type": "code",
   "execution_count": 25,
   "id": "fe5f423f-9812-46aa-850f-c1b7381109a4",
   "metadata": {},
   "outputs": [
    {
     "name": "stdout",
     "output_type": "stream",
     "text": [
      "89\n"
     ]
    }
   ],
   "source": [
    "def find_max(*num):\n",
    "    value=max(num)\n",
    "    return value\n",
    "maximun_value=find_max(34,89,76,56)\n",
    "print(maximun_value)"
   ]
  },
  {
   "cell_type": "code",
   "execution_count": 27,
   "id": "06368ea1-79d1-4683-a8ae-acaade9be45b",
   "metadata": {},
   "outputs": [],
   "source": [
    "# Q6 Recursive Function"
   ]
  },
  {
   "cell_type": "code",
   "execution_count": 29,
   "id": "58e19b25-1d3b-49ce-bec2-51e195112107",
   "metadata": {},
   "outputs": [
    {
     "name": "stdout",
     "output_type": "stream",
     "text": [
      "120\n"
     ]
    }
   ],
   "source": [
    "def factorial(n):\n",
    "    if n<0:\n",
    "        print(\"Factorial not defined for negative number.\")\n",
    "    elif n==0 or n==1:\n",
    "        return 1\n",
    "    else:\n",
    "        return n*factorial(n-1)\n",
    "result=factorial(5)\n",
    "print(result)"
   ]
  },
  {
   "cell_type": "code",
   "execution_count": 31,
   "id": "3ad26e27-a1c1-4255-aae2-a840ee7e92bc",
   "metadata": {},
   "outputs": [],
   "source": [
    "# Q7 Function as an Argument"
   ]
  },
  {
   "cell_type": "code",
   "execution_count": 33,
   "id": "aa3ad07b-73fa-441b-b8c7-2154d73d3775",
   "metadata": {},
   "outputs": [
    {
     "name": "stdout",
     "output_type": "stream",
     "text": [
      "[1, 8, 27, 64, 125]\n"
     ]
    }
   ],
   "source": [
    "def apply_function(func, numbers):\n",
    "    list=[]\n",
    "    for num in numbers:\n",
    "        data=func(num)\n",
    "        list.append(data)\n",
    "    return list\n",
    "def cube(i):\n",
    "        return i**3\n",
    "numbers=[1,2,3,4,5]\n",
    "numbers_cubes=apply_function(cube, numbers)\n",
    "print(numbers_cubes)"
   ]
  },
  {
   "cell_type": "code",
   "execution_count": 35,
   "id": "f73d2296-d20d-4fef-84f8-c587d63ea317",
   "metadata": {},
   "outputs": [],
   "source": [
    "#Q8 Lambda Function"
   ]
  },
  {
   "cell_type": "code",
   "execution_count": 39,
   "id": "2567000f-b2f4-4c02-ae1b-a05f5ed06346",
   "metadata": {},
   "outputs": [
    {
     "name": "stdout",
     "output_type": "stream",
     "text": [
      "9\n"
     ]
    }
   ],
   "source": [
    "square = lambda x: x ** 2\n",
    "print(square(3)) "
   ]
  },
  {
   "cell_type": "code",
   "execution_count": null,
   "id": "3186d570-6b68-4682-a923-c5912f2eed5a",
   "metadata": {},
   "outputs": [],
   "source": [
    "#Q9 Higher_order Function"
   ]
  },
  {
   "cell_type": "code",
   "execution_count": 43,
   "id": "47d8ebcd-2710-4eb8-9012-28ae000662ba",
   "metadata": {},
   "outputs": [
    {
     "name": "stdout",
     "output_type": "stream",
     "text": [
      "[4, 16, 25, 4356, 4489]\n"
     ]
    }
   ],
   "source": [
    "def apply_operation(func, numbers):\n",
    "    return [func(number) for number in numbers]\n",
    "numbers = [2,4,5,66,67]\n",
    "square = lambda x: x ** 2\n",
    "result = apply_operation(square, numbers)\n",
    "print(result)"
   ]
  },
  {
   "cell_type": "code",
   "execution_count": null,
   "id": "5fcd3647-8fd7-4332-9ece-072c28ddea21",
   "metadata": {},
   "outputs": [],
   "source": [
    "#Q10 Function Decorators"
   ]
  },
  {
   "cell_type": "code",
   "execution_count": null,
   "id": "1bf43ec4-0520-4830-ab4a-202031a25cb8",
   "metadata": {},
   "outputs": [],
   "source": [
    "import time\n",
    "def measure_execution_time(func):\n",
    "    def wrapper(*args, **kwargs):\n",
    "        start_time = time.time()  \n",
    "        result = func(*args, **kwargs)  \n",
    "        end_time = time.time()  \n",
    "        execution_time = end_time - start_time  \n",
    "        print(f\"Execution time of {func.__name__}: {execution_time:.6f} seconds\")\n",
    "        return result\n",
    "    return wrapper\n",
    "@measure_execution_time\n",
    "def example_function(n):\n",
    "    total = 0\n",
    "    for i in range(n):\n",
    "        total += i\n",
    "    return total\n",
    "result = example_function(1000000)\n",
    "print(\"Result:\", result)"
   ]
  }
 ],
 "metadata": {
  "kernelspec": {
   "display_name": "Python 3 (ipykernel)",
   "language": "python",
   "name": "python3"
  },
  "language_info": {
   "codemirror_mode": {
    "name": "ipython",
    "version": 3
   },
   "file_extension": ".py",
   "mimetype": "text/x-python",
   "name": "python",
   "nbconvert_exporter": "python",
   "pygments_lexer": "ipython3",
   "version": "3.12.4"
  }
 },
 "nbformat": 4,
 "nbformat_minor": 5
}
